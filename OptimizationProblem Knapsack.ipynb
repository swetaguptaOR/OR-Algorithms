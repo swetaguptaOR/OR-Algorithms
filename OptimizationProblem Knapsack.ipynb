{
 "cells": [
  {
   "cell_type": "code",
   "execution_count": 1,
   "metadata": {},
   "outputs": [],
   "source": [
    "#defining decision variable"
   ]
  },
  {
   "cell_type": "code",
   "execution_count": 2,
   "metadata": {},
   "outputs": [],
   "source": [
    "import random\n",
    "import pandas as pd\n",
    "import pulp\n"
   ]
  },
  {
   "cell_type": "code",
   "execution_count": 3,
   "metadata": {},
   "outputs": [
    {
     "data": {
      "text/plain": [
       "{10: 100, 20: 300, 30: 120}"
      ]
     },
     "execution_count": 3,
     "metadata": {},
     "output_type": "execute_result"
    }
   ],
   "source": [
    "value=[100,300,120]\n",
    "weight=[10,20,30]\n",
    "capacity=50\n",
    "n=len(value)\n",
    "v={}\n",
    "for i in range(len(weight)):\n",
    "    for j in range(len(value)):\n",
    "        if i==j:\n",
    "            v.update({weight[i]:value[j]})\n",
    "v"
   ]
  },
  {
   "cell_type": "code",
   "execution_count": 4,
   "metadata": {},
   "outputs": [],
   "source": [
    "#Defining instances\n",
    "prob=pulp.LpProblem(\"Knapsack\",pulp.LpMaximize)"
   ]
  },
  {
   "cell_type": "code",
   "execution_count": 5,
   "metadata": {},
   "outputs": [
    {
     "name": "stdout",
     "output_type": "stream",
     "text": [
      "{10: x_10, 20: x_20, 30: x_30}\n"
     ]
    }
   ],
   "source": [
    "#Defining Variables\n",
    "x={}\n",
    "for i in weight:\n",
    "    x[i]=pulp.LpVariable(\"x_\"+str(i),cat=\"Binary\")\n",
    "print(x)"
   ]
  },
  {
   "cell_type": "code",
   "execution_count": 6,
   "metadata": {},
   "outputs": [
    {
     "data": {
      "text/plain": [
       "x_10"
      ]
     },
     "execution_count": 6,
     "metadata": {},
     "output_type": "execute_result"
    }
   ],
   "source": [
    "x[10]"
   ]
  },
  {
   "cell_type": "code",
   "execution_count": 7,
   "metadata": {},
   "outputs": [
    {
     "data": {
      "text/plain": [
       "Knapsack:\n",
       "MAXIMIZE\n",
       "100*x_10 + 300*x_20 + 120*x_30 + 0\n",
       "VARIABLES\n",
       "0 <= x_10 <= 1 Integer\n",
       "0 <= x_20 <= 1 Integer\n",
       "0 <= x_30 <= 1 Integer"
      ]
     },
     "execution_count": 7,
     "metadata": {},
     "output_type": "execute_result"
    }
   ],
   "source": [
    "#Objective Function\n",
    "aux_sum = 0\n",
    "for i in weight:\n",
    "    aux_sum += x[i]*v[i]\n",
    "prob += aux_sum\n",
    "prob"
   ]
  },
  {
   "cell_type": "code",
   "execution_count": 9,
   "metadata": {},
   "outputs": [
    {
     "data": {
      "text/plain": [
       "Knapsack:\n",
       "MAXIMIZE\n",
       "100*x_10 + 300*x_20 + 120*x_30 + 0\n",
       "SUBJECT TO\n",
       "capacity_constraint_: 10 x_10 + 20 x_20 + 30 x_30 <= 50\n",
       "\n",
       "VARIABLES\n",
       "0 <= x_10 <= 1 Integer\n",
       "0 <= x_20 <= 1 Integer\n",
       "0 <= x_30 <= 1 Integer"
      ]
     },
     "execution_count": 9,
     "metadata": {},
     "output_type": "execute_result"
    }
   ],
   "source": [
    "#Constraints\n",
    "aux_sum=0\n",
    "for i in weight:\n",
    "        aux_sum += i*x[i]\n",
    "prob+=aux_sum<=capacity,'capacity_constraint_'\n",
    "prob\n",
    "\n"
   ]
  },
  {
   "cell_type": "code",
   "execution_count": 10,
   "metadata": {},
   "outputs": [
    {
     "data": {
      "text/plain": [
       "1"
      ]
     },
     "execution_count": 10,
     "metadata": {},
     "output_type": "execute_result"
    }
   ],
   "source": [
    "prob.solve()"
   ]
  },
  {
   "cell_type": "code",
   "execution_count": null,
   "metadata": {},
   "outputs": [],
   "source": [
    "for c1 in cities:\n",
    "        for c2 in cities:\n",
    "            if c1 != c2:\n",
    "                if x[c1, c2].value() is not None:\n",
    "                    if x[c1, c2].value() > 0.5:\n",
    "                        print(c1, '\\t\\t', c2)\n",
    "    "
   ]
  },
  {
   "cell_type": "code",
   "execution_count": 17,
   "metadata": {},
   "outputs": [
    {
     "name": "stdout",
     "output_type": "stream",
     "text": [
      "0.0 10 100\n",
      "1.0 20 300\n",
      "1.0 30 120\n"
     ]
    }
   ],
   "source": [
    "for i in weight:\n",
    "    if x[i].value() is not None:\n",
    "        print(x[i].value(),i ,v[i])\n"
   ]
  },
  {
   "cell_type": "code",
   "execution_count": null,
   "metadata": {},
   "outputs": [],
   "source": []
  },
  {
   "cell_type": "code",
   "execution_count": null,
   "metadata": {},
   "outputs": [],
   "source": []
  }
 ],
 "metadata": {
  "kernelspec": {
   "display_name": "Python 3",
   "language": "python",
   "name": "python3"
  },
  "language_info": {
   "codemirror_mode": {
    "name": "ipython",
    "version": 3
   },
   "file_extension": ".py",
   "mimetype": "text/x-python",
   "name": "python",
   "nbconvert_exporter": "python",
   "pygments_lexer": "ipython3",
   "version": "3.7.6"
  }
 },
 "nbformat": 4,
 "nbformat_minor": 4
}
