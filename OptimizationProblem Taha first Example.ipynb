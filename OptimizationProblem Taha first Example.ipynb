{
 "cells": [
  {
   "cell_type": "code",
   "execution_count": 76,
   "metadata": {},
   "outputs": [],
   "source": [
    "#defining decision variable"
   ]
  },
  {
   "cell_type": "code",
   "execution_count": 77,
   "metadata": {},
   "outputs": [],
   "source": [
    "import random\n",
    "import pandas as pd\n",
    "import pulp\n"
   ]
  },
  {
   "cell_type": "code",
   "execution_count": 78,
   "metadata": {},
   "outputs": [
    {
     "name": "stdout",
     "output_type": "stream",
     "text": [
      "{('P1', 'R1'): 6, ('P2', 'R1'): 4, ('P1', 'R2'): 1, ('P2', 'R2'): 2}\n",
      "{'P1': 5, 'P2': 4}\n",
      "{'R1': 24, 'R2': 6}\n"
     ]
    }
   ],
   "source": [
    "A=[[6,4],[1,2]]\n",
    "raw=['R1','R2']\n",
    "Paint=[\"P1\",\"P2\"]\n",
    "demand={}\n",
    "for j in range(len(raw)):\n",
    "    for i in range(len(Paint)):\n",
    "        demand.update({(Paint[i],raw[j]):A[j][i]})\n",
    "print(demand)\n",
    "        \n",
    "Av=[24,6]\n",
    "P=[5,4]  \n",
    "Profit={}\n",
    "for i in range(len(Paint)):\n",
    "    for j in range(len(P)):\n",
    "        if i==j:\n",
    "            Profit.update({Paint[i]:P[j]})\n",
    "print(Profit)\n",
    "Availibilty={}\n",
    "for i in range(len(raw)):\n",
    "    for j in range(len(Av)):\n",
    "        if i==j:\n",
    "            Availibilty.update({raw[i]:Av[j]})\n",
    "print(Availibilty)"
   ]
  },
  {
   "cell_type": "code",
   "execution_count": 79,
   "metadata": {},
   "outputs": [
    {
     "data": {
      "text/plain": [
       "2"
      ]
     },
     "execution_count": 79,
     "metadata": {},
     "output_type": "execute_result"
    }
   ],
   "source": [
    "A[j][i]"
   ]
  },
  {
   "cell_type": "code",
   "execution_count": 80,
   "metadata": {},
   "outputs": [],
   "source": [
    "#Defining instances\n",
    "prob=pulp.LpProblem(\"LP\",pulp.LpMaximize)"
   ]
  },
  {
   "cell_type": "code",
   "execution_count": 81,
   "metadata": {},
   "outputs": [
    {
     "name": "stdout",
     "output_type": "stream",
     "text": [
      "{'P1': x_P1, 'P2': x_P2}\n"
     ]
    }
   ],
   "source": [
    "#Defining Variables\n",
    "#x_P1 is amount of product 1 and x_P2 is amount of product 2\n",
    "x={}\n",
    "for p in Paint:\n",
    "        x[p]=pulp.LpVariable(\"x_\"+p,lowBound=0,cat=\"Integer\")\n",
    "print(x)"
   ]
  },
  {
   "cell_type": "code",
   "execution_count": 82,
   "metadata": {},
   "outputs": [
    {
     "data": {
      "text/plain": [
       "LP:\n",
       "MAXIMIZE\n",
       "5*x_P1 + 4*x_P2 + 0\n",
       "VARIABLES\n",
       "0 <= x_P1 Integer\n",
       "0 <= x_P2 Integer"
      ]
     },
     "execution_count": 82,
     "metadata": {},
     "output_type": "execute_result"
    }
   ],
   "source": [
    "#Objective Function\n",
    "#Maximize Profit\n",
    "aux_sum = 0\n",
    "\n",
    "for p in Paint:\n",
    "    aux_sum += x[p] * Profit[p]\n",
    "prob += aux_sum\n",
    "prob"
   ]
  },
  {
   "cell_type": "code",
   "execution_count": 83,
   "metadata": {},
   "outputs": [
    {
     "data": {
      "text/plain": [
       "LP:\n",
       "MAXIMIZE\n",
       "5*x_P1 + 4*x_P2 + 0\n",
       "SUBJECT TO\n",
       "raw_material_availavility_R1: 6 x_P1 + 4 x_P2 <= 24\n",
       "\n",
       "raw_material_availavility_R2: x_P1 + 2 x_P2 <= 6\n",
       "\n",
       "VARIABLES\n",
       "0 <= x_P1 Integer\n",
       "0 <= x_P2 Integer"
      ]
     },
     "execution_count": 83,
     "metadata": {},
     "output_type": "execute_result"
    }
   ],
   "source": [
    "#Constraints\n",
    "for r in (raw):\n",
    "    aux_sum=0 \n",
    "    for p in Paint:\n",
    "        aux_sum += demand[p,r]*x[p]\n",
    "    prob+=aux_sum<=Availibilty[r],'raw_material_availavility_'+r\n",
    "prob\n",
    "\n"
   ]
  },
  {
   "cell_type": "code",
   "execution_count": 84,
   "metadata": {},
   "outputs": [],
   "source": [
    "prob+=x['P2']<=2,'demand_constraint_'"
   ]
  },
  {
   "cell_type": "code",
   "execution_count": 85,
   "metadata": {},
   "outputs": [],
   "source": [
    "prob+=x['P2']-x['P1']<=1,'limit_constraint_'"
   ]
  },
  {
   "cell_type": "code",
   "execution_count": 86,
   "metadata": {},
   "outputs": [
    {
     "data": {
      "text/plain": [
       "LP:\n",
       "MAXIMIZE\n",
       "5*x_P1 + 4*x_P2 + 0\n",
       "SUBJECT TO\n",
       "raw_material_availavility_R1: 6 x_P1 + 4 x_P2 <= 24\n",
       "\n",
       "raw_material_availavility_R2: x_P1 + 2 x_P2 <= 6\n",
       "\n",
       "demand_constraint_: x_P2 <= 2\n",
       "\n",
       "limit_constraint_: - x_P1 + x_P2 <= 1\n",
       "\n",
       "VARIABLES\n",
       "0 <= x_P1 Integer\n",
       "0 <= x_P2 Integer"
      ]
     },
     "execution_count": 86,
     "metadata": {},
     "output_type": "execute_result"
    }
   ],
   "source": [
    "prob"
   ]
  },
  {
   "cell_type": "code",
   "execution_count": 87,
   "metadata": {},
   "outputs": [
    {
     "data": {
      "text/plain": [
       "1"
      ]
     },
     "execution_count": 87,
     "metadata": {},
     "output_type": "execute_result"
    }
   ],
   "source": [
    "prob.solve()"
   ]
  },
  {
   "cell_type": "code",
   "execution_count": 89,
   "metadata": {},
   "outputs": [
    {
     "name": "stdout",
     "output_type": "stream",
     "text": [
      "x_P1 4.0\n",
      "x_P2 0.0\n"
     ]
    }
   ],
   "source": [
    "for p in Paint:\n",
    "    print(x[p],x[p].value())\n",
    "    "
   ]
  },
  {
   "cell_type": "code",
   "execution_count": null,
   "metadata": {},
   "outputs": [],
   "source": []
  },
  {
   "cell_type": "code",
   "execution_count": null,
   "metadata": {},
   "outputs": [],
   "source": []
  },
  {
   "cell_type": "code",
   "execution_count": null,
   "metadata": {},
   "outputs": [],
   "source": []
  }
 ],
 "metadata": {
  "kernelspec": {
   "display_name": "Python 3",
   "language": "python",
   "name": "python3"
  },
  "language_info": {
   "codemirror_mode": {
    "name": "ipython",
    "version": 3
   },
   "file_extension": ".py",
   "mimetype": "text/x-python",
   "name": "python",
   "nbconvert_exporter": "python",
   "pygments_lexer": "ipython3",
   "version": "3.7.6"
  }
 },
 "nbformat": 4,
 "nbformat_minor": 4
}
